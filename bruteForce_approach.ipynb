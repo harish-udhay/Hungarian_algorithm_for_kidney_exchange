{
 "cells": [
  {
   "cell_type": "code",
   "execution_count": 1,
   "id": "f0d5dab6",
   "metadata": {},
   "outputs": [],
   "source": [
    "import numpy as np"
   ]
  },
  {
   "cell_type": "code",
   "execution_count": 24,
   "id": "f52c9eec",
   "metadata": {},
   "outputs": [],
   "source": [
    "max_sum = 0\n",
    "\n",
    "currentMatchingPositions = []\n",
    "matchingPositions = []\n",
    "\n",
    "def getMax(matrix,check,row,curr_sum):\n",
    "    global max_sum\n",
    "    global matchingPositions\n",
    "    #base case, we have reached the last element.\n",
    "    #check to see if this combination is max\n",
    "    if(row==len(matrix)-1):\n",
    "        for i in range(len(check)):\n",
    "            if(check[i]==0 and (matrix[row][i]+curr_sum)>max_sum):\n",
    "                max_sum = matrix[row][i]+curr_sum\n",
    "                currentMatchingPositions.append((row, i))\n",
    "                matchingPositions = currentMatchingPositions.copy()\n",
    "                currentMatchingPositions.remove((row, i))\n",
    "    #recursive case, pick the current available number, go to next Number.\n",
    "    else:\n",
    "        for i in range(len(check)):\n",
    "            if(check[i]==0):\n",
    "                check[i]=1\n",
    "                currentMatchingPositions.append((row, i))\n",
    "                getMax(matrix,check,row+1,curr_sum+matrix[row][i])\n",
    "                check[i]=0\n",
    "                currentMatchingPositions.remove((row, i))"
   ]
  },
  {
   "cell_type": "code",
   "execution_count": 26,
   "id": "90fcf1cf",
   "metadata": {},
   "outputs": [
    {
     "name": "stdout",
     "output_type": "stream",
     "text": [
      "The optimal kidney pairs [(0, 1), (1, 0), (2, 3), (3, 2)]\n",
      "Time taken by algorithm =  0.000152587890625  seconds\n",
      "Linear Assignment problem result: 344\n",
      "[[ 0. 83.  0.  0.]\n",
      " [77.  0.  0.  0.]\n",
      " [ 0.  0.  0. 86.]\n",
      " [ 0.  0. 98.  0.]]\n"
     ]
    }
   ],
   "source": [
    "def output(mat, pos):\n",
    "    total = 0\n",
    "    ans_mat = np.zeros((mat.shape[0], mat.shape[1]))\n",
    "    for i in range(len(pos)):\n",
    "        total += mat[pos[i][0], pos[i][1]]\n",
    "        ans_mat[pos[i][0], pos[i][1]] = mat[pos[i][0], pos[i][1]]\n",
    "    return total, ans_mat\n",
    "\n",
    "\n",
    "\n",
    "data_matrix = np.array([[82, 83, 69, 92],\n",
    "            [77, 37, 49, 92],\n",
    "            [11, 69, 5, 86],\n",
    "            [8, 9, 98, 23],\n",
    "            ])\n",
    "check = [0]* len(data_matrix)\n",
    "import time\n",
    "startTime = time.time()\n",
    "getMax(data_matrix.copy(),check,0,0)#Get the element position.\n",
    "ans_pos = matchingPositions\n",
    "timetaken = time.time() - startTime\n",
    "ans, ans_mat = output(data_matrix, ans_pos)#Get the minimum or maximum value and corresponding matrix.\n",
    "print('The optimal kidney pairs',ans_pos)\n",
    "print('Time taken by algorithm = ', timetaken, \" seconds\")\n",
    "#Show the result\n",
    "print(f\"Linear Assignment problem result: {ans:.0f}\\n{ans_mat}\")"
   ]
  },
  {
   "cell_type": "markdown",
   "id": "3c5a62ed",
   "metadata": {},
   "source": [
    "# Visualization 1"
   ]
  },
  {
   "cell_type": "code",
   "execution_count": 27,
   "id": "fc04bdbd",
   "metadata": {},
   "outputs": [
    {
     "data": {
      "image/png": "[encoded data removed]",
      "text/plain": [
       "<Figure size 432x288 with 1 Axes>"
      ]
     },
     "metadata": {},
     "output_type": "display_data"
    }
   ],
   "source": [
    "import networkx as nx\n",
    "import matplotlib.pyplot as plt\n",
    "\n",
    "donor_list = []\n",
    "patient_list = []\n",
    "\n",
    "for row in range(len(data_matrix)):\n",
    "    Donor = 'Donor_'\n",
    "    Patient = 'Patient_'\n",
    "    Donor = Donor+str(row + 1)\n",
    "    Patient = Patient+str(row + 1)\n",
    "    donor_list.append(Donor)\n",
    "    patient_list.append(Patient)\n",
    "\n",
    "g = nx.Graph()\n",
    " \n",
    "for node in ans_pos:\n",
    "    g.add_edge(donor_list[node[0]], patient_list[node[1]])\n",
    "\n",
    "pos = nx.spring_layout(g, seed=3113794652)  # positions for all nodes\n",
    "\n",
    "labels = {}\n",
    "for i in donor_list:\n",
    "    labels[i] = i\n",
    "    \n",
    "for i in patient_list:\n",
    "    labels[i] = i\n",
    "    \n",
    "fig, ax = plt.subplots()\n",
    "nx.draw(g, pos, width=8, alpha=0.5, labels = labels,node_shape='*', font_size=12, font_color=\"black\", node_color='gold',edge_color='black')\n",
    "\n",
    "\n",
    "ax.set_facecolor('#E17C88')\n",
    "ax.axis('off')\n",
    "fig.set_facecolor('#F7C9CE')\n",
    "plt.show()"
   ]
  },
  {
   "cell_type": "markdown",
   "id": "bb7e192b",
   "metadata": {},
   "source": [
    "# Visualization 2"
   ]
  },
  {
   "cell_type": "code",
   "execution_count": null,
   "id": "4a4225d8-1d42-44ef-a036-47bb213e0601",
   "metadata": {},
   "outputs": [],
   "source": [
    "from pyvis.network import Network\n",
    "\n",
    "net = Network()\n",
    "\n",
    "for i in range(len(donor_list)):\n",
    "    net.add_node(i, label=donor_list[i],color='#3da831')\n",
    "\n",
    "# i has a value of length of donor_list now\n",
    "# we need to continue adding nodes with incrementing index from last node of donor \n",
    "# We shouldn't be generating node numbers from 1 because it has already been assigned to donor nodes\n",
    "\n",
    "for i in range(len(patient_list)):\n",
    "    net.add_node(i + len(patient_list), label=patient_list[i], color = '#3155a8')\n",
    "\n",
    "for node in ans_pos:\n",
    "    net.add_edge(int(node[0]), int(node[1]) + len(patient_list),  value=2)\n",
    "\n",
    "net.repulsion(node_distance=100, spring_length=100)\n",
    "net.show('node1.html')\n",
    "\n",
    "![image.png](attachment:image.png)"
   ]
  },
  {
   "cell_type": "code",
   "execution_count": null,
   "id": "78f6086e",
   "metadata": {},
   "outputs": [],
   "source": []
  }
 ],
 "metadata": {
  "kernelspec": {
   "display_name": "Python 3.8",
   "language": "python",
   "name": "python3"
  },
  "language_info": {
   "codemirror_mode": {
    "name": "ipython",
    "version": 3
   },
   "file_extension": ".py",
   "mimetype": "text/x-python",
   "name": "python",
   "nbconvert_exporter": "python",
   "pygments_lexer": "ipython3",
   "version": "3.8.10"
  }
 },
 "nbformat": 4,
 "nbformat_minor": 5
}
